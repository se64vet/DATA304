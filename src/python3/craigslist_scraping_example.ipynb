{
 "cells": [
  {
   "cell_type": "markdown",
   "metadata": {},
   "source": [
    "Note to whomever looks at this: the plotly dashboard behaves very weird at least in part because of the jupyter nb. Consider moving this code to .py and using client browser to view."
   ]
  },
  {
   "cell_type": "code",
   "execution_count": 16,
   "metadata": {},
   "outputs": [
    {
     "name": "stdout",
     "output_type": "stream",
     "text": [
      "Opening URL: https://knoxville.craigslist.org/search/cta?query=Toyota+Camry&min_auto_year=2010&max_auto_year=2022&purveyor=owner\n"
     ]
    }
   ],
   "source": [
    "from selenium import webdriver\n",
    "from selenium.webdriver.chrome.service import Service\n",
    "from selenium.webdriver.chrome.options import Options\n",
    "from webdriver_manager.chrome import ChromeDriverManager\n",
    "from bs4 import BeautifulSoup\n",
    "import json\n",
    "import pandas as pd\n",
    "import re\n",
    "import time\n",
    "import dash\n",
    "from dash import dcc, html\n",
    "import plotly.express as px\n",
    "\n",
    "# Set up Selenium WebDriver\n",
    "options = Options()\n",
    "options.add_argument(\"--headless\")  # Run in headless mode\n",
    "options.add_argument(\"--no-sandbox\")\n",
    "options.add_argument(\"--disable-dev-shm-usage\")\n",
    "options.add_argument(\"user-agent=Mozilla/5.0 (Windows NT 10.0; Win64; x64) AppleWebKit/537.36 (KHTML, like Gecko) Chrome/91.0.4472.124 Safari/537.36\")\n",
    "\n",
    "service = Service(ChromeDriverManager().install())\n",
    "driver = webdriver.Chrome(service=service, options=options)\n",
    "\n",
    "# Define search parameters\n",
    "city = \"knoxville\"\n",
    "make_model = \"Toyota Camry\"\n",
    "min_year = 2010\n",
    "max_year = 2022\n",
    "by_owner = True\n",
    "\n",
    "# Construct search URL\n",
    "base_url = f\"https://{city}.craigslist.org/search/cta\"\n",
    "params = []\n",
    "if make_model:\n",
    "    params.append(f\"query={make_model.replace(' ', '+')}\")\n",
    "if min_year:\n",
    "    params.append(f\"min_auto_year={min_year}\")\n",
    "if max_year:\n",
    "    params.append(f\"max_auto_year={max_year}\")\n",
    "if by_owner:\n",
    "    params.append(\"purveyor=owner\")\n",
    "search_url = base_url + \"?\" + \"&\".join(params)\n",
    "\n",
    "# Fetch the page\n",
    "print(f\"Opening URL: {search_url}\")\n",
    "driver.get(search_url)\n",
    "time.sleep(3)  # Allow JavaScript to load\n",
    "soup = BeautifulSoup(driver.page_source, \"html.parser\")\n",
    "driver.quit()\n",
    "# Extract listing URLs and prices\n",
    "listings = []\n",
    "for listing in soup.select(\"ol > div\"):  # Adjust selector based on actual structure\n",
    "    url_tag = listing.find(\"a\", class_=\"main\", href=True)\n",
    "    price_tag = listing.find(\"span\", class_=\"priceinfo\")\n",
    "    \n",
    "    if url_tag and price_tag:\n",
    "        url = url_tag[\"href\"]\n",
    "        price = price_tag.text.strip()\n",
    "        listings.append({\"url\": url, \"price\": price})"
   ]
  },
  {
   "cell_type": "code",
   "execution_count": 17,
   "metadata": {},
   "outputs": [
    {
     "name": "stdout",
     "output_type": "stream",
     "text": [
      "Found 5 listings with details\n"
     ]
    }
   ],
   "source": [
    "# Extract additional details from each listing page\n",
    "detailed_listings = []\n",
    "driver = webdriver.Chrome(service=service, options=options)\n",
    "for listing in listings[0:5]:\n",
    "    driver.get(listing[\"url\"])\n",
    "    time.sleep(2)\n",
    "    listing_soup = BeautifulSoup(driver.page_source, \"html.parser\")\n",
    "    \n",
    "    attributes = {}\n",
    "    for attr in listing_soup.select(\".attrgroup .attr\"):\n",
    "        label = attr.find(\"span\", class_=\"labl\")\n",
    "        value = attr.find(\"span\", class_=\"valu\")\n",
    "        if label and value:\n",
    "            attributes[label.text.strip()] = value.text.strip()\n",
    "    \n",
    "    detailed_listings.append({\"url\": listing[\"url\"], \"price\": listing[\"price\"], **attributes})\n",
    "\n",
    "driver.quit()\n",
    "\n",
    "# Convert to DataFrame and display\n",
    "print(f\"Found {len(detailed_listings)} listings with details\")\n",
    "df = pd.DataFrame(detailed_listings)"
   ]
  },
  {
   "cell_type": "code",
   "execution_count": 18,
   "metadata": {},
   "outputs": [],
   "source": [
    "df.columns = [col.replace(':','') for col in df.columns]"
   ]
  },
  {
   "cell_type": "code",
   "execution_count": 19,
   "metadata": {},
   "outputs": [],
   "source": [
    "# Convert price to a numeric value\n",
    "df[\"price\"] = df[\"price\"].replace(r\"[\\$,]\", \"\", regex=True).astype(float)\n",
    "# Convert odometer to a numeric value\n",
    "df[\"odometer\"] = df[\"odometer\"].replace(r\",\", \"\", regex=True).astype(float)\n",
    "# Extract numeric value from cylinders (e.g., \"4 cylinders\" -> 4)\n",
    "df[\"cylinders\"] = df[\"cylinders\"].str.extract(r\"(\\d+)\").astype(float)"
   ]
  },
  {
   "cell_type": "code",
   "execution_count": 24,
   "metadata": {},
   "outputs": [
    {
     "data": {
      "text/html": [
       "\n",
       "        <iframe\n",
       "            width=\"100%\"\n",
       "            height=\"650\"\n",
       "            src=\"http://127.0.0.1:8050/\"\n",
       "            frameborder=\"0\"\n",
       "            allowfullscreen\n",
       "            \n",
       "        ></iframe>\n",
       "        "
      ],
      "text/plain": [
       "<IPython.lib.display.IFrame at 0x17d6df980>"
      ]
     },
     "metadata": {},
     "output_type": "display_data"
    }
   ],
   "source": [
    "# Create a Dash app\n",
    "app = dash.Dash(__name__)\n",
    "fig = px.scatter(df, x=\"odometer\", y=\"price\", color=\"condition\", hover_data=[\"url\"])\n",
    "fig.update_yaxes(dtick=5000)\n",
    "\n",
    "@app.callback(\n",
    "    dash.dependencies.Output('dummy-output', 'children'),\n",
    "    [dash.dependencies.Input('shutdown-button', 'n_clicks')]\n",
    ")\n",
    "def shutdown_server(n_clicks):\n",
    "    if n_clicks:\n",
    "        os._exit(0)\n",
    "    return \"\"\n",
    "\n",
    "app.layout = html.Div([\n",
    "    html.Button(\"Shutdown Server\", id=\"shutdown-button\"),\n",
    "    html.Div(id=\"dummy-output\"),\n",
    "    html.H1(\"Craigslist Car Listings Dashboard\"),\n",
    "    dcc.Graph(id=\"price-vs-odometer\", figure=fig),\n",
    "])\n",
    "\n",
    "app.run_server(debug=True)"
   ]
  },
  {
   "cell_type": "code",
   "execution_count": 25,
   "metadata": {},
   "outputs": [
    {
     "data": {
      "application/vnd.plotly.v1+json": {
       "config": {
        "plotlyServerURL": "https://plot.ly"
       },
       "data": [
        {
         "customdata": [
          [
           "https://knoxville.craigslist.org/cto/d/knoxville-toyota-camry-2011-with-clean/7825552768.html"
          ],
          [
           "https://bham.craigslist.org/cto/d/birmingham-toyota-camry-2012-clean-title/7825644455.html"
          ]
         ],
         "hovertemplate": "color=Above Expected<br>odometer=%{x}<br>price=%{y}<br>url=%{customdata[0]}<extra></extra>",
         "legendgroup": "Above Expected",
         "marker": {
          "color": "#636efa",
          "symbol": "circle"
         },
         "mode": "markers",
         "name": "Above Expected",
         "orientation": "v",
         "showlegend": true,
         "type": "scatter",
         "x": [
          198734,
          139300
         ],
         "xaxis": "x",
         "y": [
          6499,
          9300
         ],
         "yaxis": "y"
        },
        {
         "customdata": [
          [
           "https://knoxville.craigslist.org/cto/d/lenoir-city-2013-toyota-camry-le/7821120064.html"
          ],
          [
           "https://columbia.craigslist.org/cto/d/cayce-2011-toyota-camry-se-warranty/7825927980.html"
          ],
          [
           "https://atlanta.craigslist.org/nat/cto/d/smyrna-2011-toyota-camry-hybrid/7825650886.html"
          ]
         ],
         "hovertemplate": "color=Below Expected<br>odometer=%{x}<br>price=%{y}<br>url=%{customdata[0]}<extra></extra>",
         "legendgroup": "Below Expected",
         "marker": {
          "color": "#EF553B",
          "symbol": "circle"
         },
         "mode": "markers",
         "name": "Below Expected",
         "orientation": "v",
         "showlegend": true,
         "type": "scatter",
         "x": [
          80995,
          162000,
          158046
         ],
         "xaxis": "x",
         "y": [
          9500,
          6999,
          6500
         ],
         "yaxis": "y"
        },
        {
         "hovertemplate": "odometer=%{x}<br>price=%{y}<extra></extra>",
         "legendgroup": "",
         "line": {
          "color": "#636efa",
          "dash": "solid"
         },
         "marker": {
          "symbol": "circle"
         },
         "mode": "lines",
         "name": "",
         "orientation": "v",
         "showlegend": false,
         "type": "scatter",
         "x": [
          80995,
          82184.28282828283,
          83373.56565656565,
          84562.84848484848,
          85752.1313131313,
          86941.41414141413,
          88130.69696969698,
          89319.9797979798,
          90509.26262626263,
          91698.54545454546,
          92887.82828282828,
          94077.11111111111,
          95266.39393939394,
          96455.67676767676,
          97644.95959595959,
          98834.24242424243,
          100023.52525252526,
          101212.80808080808,
          102402.09090909091,
          103591.37373737374,
          104780.65656565657,
          105969.93939393939,
          107159.22222222222,
          108348.50505050505,
          109537.78787878787,
          110727.0707070707,
          111916.35353535353,
          113105.63636363635,
          114294.91919191918,
          115484.202020202,
          116673.48484848485,
          117862.76767676767,
          119052.0505050505,
          120241.33333333333,
          121430.61616161616,
          122619.898989899,
          123809.18181818182,
          124998.46464646465,
          126187.74747474748,
          127377.0303030303,
          128566.31313131313,
          129755.59595959596,
          130944.87878787878,
          132134.1616161616,
          133323.44444444444,
          134512.72727272726,
          135702.0101010101,
          136891.29292929292,
          138080.57575757575,
          139269.85858585857,
          140459.1414141414,
          141648.42424242425,
          142837.70707070705,
          144026.9898989899,
          145216.2727272727,
          146405.55555555556,
          147594.83838383836,
          148784.12121212122,
          149973.404040404,
          151162.68686868687,
          152351.9696969697,
          153541.25252525252,
          154730.53535353535,
          155919.81818181818,
          157109.101010101,
          158298.38383838383,
          159487.66666666666,
          160676.94949494948,
          161866.2323232323,
          163055.51515151514,
          164244.797979798,
          165434.0808080808,
          166623.36363636365,
          167812.64646464644,
          169001.9292929293,
          170191.2121212121,
          171380.49494949495,
          172569.77777777775,
          173759.0606060606,
          174948.3434343434,
          176137.62626262626,
          177326.9090909091,
          178516.19191919192,
          179705.47474747474,
          180894.75757575757,
          182084.0404040404,
          183273.32323232322,
          184462.60606060605,
          185651.88888888888,
          186841.1717171717,
          188030.45454545453,
          189219.7373737374,
          190409.02020202018,
          191598.30303030304,
          192787.58585858584,
          193976.8686868687,
          195166.1515151515,
          196355.43434343435,
          197544.71717171714,
          198734
         ],
         "xaxis": "x",
         "y": [
          9712.019562056692,
          9677.26980062662,
          9642.520039196546,
          9607.770277766473,
          9573.020516336399,
          9538.270754906327,
          9503.520993476253,
          9468.77123204618,
          9434.021470616106,
          9399.271709186032,
          9364.521947755959,
          9329.772186325885,
          9295.022424895813,
          9260.27266346574,
          9225.522902035666,
          9190.773140605592,
          9156.023379175518,
          9121.273617745446,
          9086.523856315373,
          9051.774094885299,
          9017.024333455225,
          8982.274572025151,
          8947.524810595078,
          8912.775049165006,
          8878.025287734932,
          8843.275526304858,
          8808.525764874785,
          8773.776003444713,
          8739.02624201464,
          8704.276480584565,
          8669.526719154492,
          8634.776957724418,
          8600.027196294344,
          8565.27743486427,
          8530.527673434197,
          8495.777912004123,
          8461.028150574051,
          8426.278389143978,
          8391.528627713904,
          8356.778866283832,
          8322.029104853758,
          8287.279343423685,
          8252.529581993611,
          8217.779820563537,
          8183.030059133464,
          8148.280297703391,
          8113.530536273318,
          8078.780774843244,
          8044.0310134131705,
          8009.281251983098,
          7974.531490553024,
          7939.78172912295,
          7905.0319676928775,
          7870.282206262803,
          7835.532444832731,
          7800.782683402656,
          7766.0329219725845,
          7731.28316054251,
          7696.533399112437,
          7661.783637682363,
          7627.03387625229,
          7592.284114822217,
          7557.534353392143,
          7522.7845919620695,
          7488.034830531997,
          7453.285069101923,
          7418.53530767185,
          7383.7855462417765,
          7349.035784811703,
          7314.28602338163,
          7279.536261951555,
          7244.7865005214835,
          7210.036739091409,
          7175.286977661336,
          7140.537216231262,
          7105.78745480119,
          7071.037693371116,
          7036.287931941043,
          7001.5381705109685,
          6966.788409080897,
          6932.038647650822,
          6897.288886220749,
          6862.5391247906755,
          6827.789363360602,
          6793.039601930529,
          6758.289840500455,
          6723.5400790703825,
          6688.790317640309,
          6654.040556210235,
          6619.290794780162,
          6584.541033350089,
          6549.791271920015,
          6515.041510489942,
          6480.291749059868,
          6445.541987629796,
          6410.792226199721,
          6376.042464769649,
          6341.2927033395745,
          6306.542941909502,
          6271.793180479428
         ],
         "yaxis": "y"
        }
       ],
       "layout": {
        "legend": {
         "title": {
          "text": "color"
         },
         "tracegroupgap": 0
        },
        "margin": {
         "t": 60
        },
        "template": {
         "data": {
          "bar": [
           {
            "error_x": {
             "color": "#2a3f5f"
            },
            "error_y": {
             "color": "#2a3f5f"
            },
            "marker": {
             "line": {
              "color": "#E5ECF6",
              "width": 0.5
             },
             "pattern": {
              "fillmode": "overlay",
              "size": 10,
              "solidity": 0.2
             }
            },
            "type": "bar"
           }
          ],
          "barpolar": [
           {
            "marker": {
             "line": {
              "color": "#E5ECF6",
              "width": 0.5
             },
             "pattern": {
              "fillmode": "overlay",
              "size": 10,
              "solidity": 0.2
             }
            },
            "type": "barpolar"
           }
          ],
          "carpet": [
           {
            "aaxis": {
             "endlinecolor": "#2a3f5f",
             "gridcolor": "white",
             "linecolor": "white",
             "minorgridcolor": "white",
             "startlinecolor": "#2a3f5f"
            },
            "baxis": {
             "endlinecolor": "#2a3f5f",
             "gridcolor": "white",
             "linecolor": "white",
             "minorgridcolor": "white",
             "startlinecolor": "#2a3f5f"
            },
            "type": "carpet"
           }
          ],
          "choropleth": [
           {
            "colorbar": {
             "outlinewidth": 0,
             "ticks": ""
            },
            "type": "choropleth"
           }
          ],
          "contour": [
           {
            "colorbar": {
             "outlinewidth": 0,
             "ticks": ""
            },
            "colorscale": [
             [
              0,
              "#0d0887"
             ],
             [
              0.1111111111111111,
              "#46039f"
             ],
             [
              0.2222222222222222,
              "#7201a8"
             ],
             [
              0.3333333333333333,
              "#9c179e"
             ],
             [
              0.4444444444444444,
              "#bd3786"
             ],
             [
              0.5555555555555556,
              "#d8576b"
             ],
             [
              0.6666666666666666,
              "#ed7953"
             ],
             [
              0.7777777777777778,
              "#fb9f3a"
             ],
             [
              0.8888888888888888,
              "#fdca26"
             ],
             [
              1,
              "#f0f921"
             ]
            ],
            "type": "contour"
           }
          ],
          "contourcarpet": [
           {
            "colorbar": {
             "outlinewidth": 0,
             "ticks": ""
            },
            "type": "contourcarpet"
           }
          ],
          "heatmap": [
           {
            "colorbar": {
             "outlinewidth": 0,
             "ticks": ""
            },
            "colorscale": [
             [
              0,
              "#0d0887"
             ],
             [
              0.1111111111111111,
              "#46039f"
             ],
             [
              0.2222222222222222,
              "#7201a8"
             ],
             [
              0.3333333333333333,
              "#9c179e"
             ],
             [
              0.4444444444444444,
              "#bd3786"
             ],
             [
              0.5555555555555556,
              "#d8576b"
             ],
             [
              0.6666666666666666,
              "#ed7953"
             ],
             [
              0.7777777777777778,
              "#fb9f3a"
             ],
             [
              0.8888888888888888,
              "#fdca26"
             ],
             [
              1,
              "#f0f921"
             ]
            ],
            "type": "heatmap"
           }
          ],
          "heatmapgl": [
           {
            "colorbar": {
             "outlinewidth": 0,
             "ticks": ""
            },
            "colorscale": [
             [
              0,
              "#0d0887"
             ],
             [
              0.1111111111111111,
              "#46039f"
             ],
             [
              0.2222222222222222,
              "#7201a8"
             ],
             [
              0.3333333333333333,
              "#9c179e"
             ],
             [
              0.4444444444444444,
              "#bd3786"
             ],
             [
              0.5555555555555556,
              "#d8576b"
             ],
             [
              0.6666666666666666,
              "#ed7953"
             ],
             [
              0.7777777777777778,
              "#fb9f3a"
             ],
             [
              0.8888888888888888,
              "#fdca26"
             ],
             [
              1,
              "#f0f921"
             ]
            ],
            "type": "heatmapgl"
           }
          ],
          "histogram": [
           {
            "marker": {
             "pattern": {
              "fillmode": "overlay",
              "size": 10,
              "solidity": 0.2
             }
            },
            "type": "histogram"
           }
          ],
          "histogram2d": [
           {
            "colorbar": {
             "outlinewidth": 0,
             "ticks": ""
            },
            "colorscale": [
             [
              0,
              "#0d0887"
             ],
             [
              0.1111111111111111,
              "#46039f"
             ],
             [
              0.2222222222222222,
              "#7201a8"
             ],
             [
              0.3333333333333333,
              "#9c179e"
             ],
             [
              0.4444444444444444,
              "#bd3786"
             ],
             [
              0.5555555555555556,
              "#d8576b"
             ],
             [
              0.6666666666666666,
              "#ed7953"
             ],
             [
              0.7777777777777778,
              "#fb9f3a"
             ],
             [
              0.8888888888888888,
              "#fdca26"
             ],
             [
              1,
              "#f0f921"
             ]
            ],
            "type": "histogram2d"
           }
          ],
          "histogram2dcontour": [
           {
            "colorbar": {
             "outlinewidth": 0,
             "ticks": ""
            },
            "colorscale": [
             [
              0,
              "#0d0887"
             ],
             [
              0.1111111111111111,
              "#46039f"
             ],
             [
              0.2222222222222222,
              "#7201a8"
             ],
             [
              0.3333333333333333,
              "#9c179e"
             ],
             [
              0.4444444444444444,
              "#bd3786"
             ],
             [
              0.5555555555555556,
              "#d8576b"
             ],
             [
              0.6666666666666666,
              "#ed7953"
             ],
             [
              0.7777777777777778,
              "#fb9f3a"
             ],
             [
              0.8888888888888888,
              "#fdca26"
             ],
             [
              1,
              "#f0f921"
             ]
            ],
            "type": "histogram2dcontour"
           }
          ],
          "mesh3d": [
           {
            "colorbar": {
             "outlinewidth": 0,
             "ticks": ""
            },
            "type": "mesh3d"
           }
          ],
          "parcoords": [
           {
            "line": {
             "colorbar": {
              "outlinewidth": 0,
              "ticks": ""
             }
            },
            "type": "parcoords"
           }
          ],
          "pie": [
           {
            "automargin": true,
            "type": "pie"
           }
          ],
          "scatter": [
           {
            "fillpattern": {
             "fillmode": "overlay",
             "size": 10,
             "solidity": 0.2
            },
            "type": "scatter"
           }
          ],
          "scatter3d": [
           {
            "line": {
             "colorbar": {
              "outlinewidth": 0,
              "ticks": ""
             }
            },
            "marker": {
             "colorbar": {
              "outlinewidth": 0,
              "ticks": ""
             }
            },
            "type": "scatter3d"
           }
          ],
          "scattercarpet": [
           {
            "marker": {
             "colorbar": {
              "outlinewidth": 0,
              "ticks": ""
             }
            },
            "type": "scattercarpet"
           }
          ],
          "scattergeo": [
           {
            "marker": {
             "colorbar": {
              "outlinewidth": 0,
              "ticks": ""
             }
            },
            "type": "scattergeo"
           }
          ],
          "scattergl": [
           {
            "marker": {
             "colorbar": {
              "outlinewidth": 0,
              "ticks": ""
             }
            },
            "type": "scattergl"
           }
          ],
          "scattermapbox": [
           {
            "marker": {
             "colorbar": {
              "outlinewidth": 0,
              "ticks": ""
             }
            },
            "type": "scattermapbox"
           }
          ],
          "scatterpolar": [
           {
            "marker": {
             "colorbar": {
              "outlinewidth": 0,
              "ticks": ""
             }
            },
            "type": "scatterpolar"
           }
          ],
          "scatterpolargl": [
           {
            "marker": {
             "colorbar": {
              "outlinewidth": 0,
              "ticks": ""
             }
            },
            "type": "scatterpolargl"
           }
          ],
          "scatterternary": [
           {
            "marker": {
             "colorbar": {
              "outlinewidth": 0,
              "ticks": ""
             }
            },
            "type": "scatterternary"
           }
          ],
          "surface": [
           {
            "colorbar": {
             "outlinewidth": 0,
             "ticks": ""
            },
            "colorscale": [
             [
              0,
              "#0d0887"
             ],
             [
              0.1111111111111111,
              "#46039f"
             ],
             [
              0.2222222222222222,
              "#7201a8"
             ],
             [
              0.3333333333333333,
              "#9c179e"
             ],
             [
              0.4444444444444444,
              "#bd3786"
             ],
             [
              0.5555555555555556,
              "#d8576b"
             ],
             [
              0.6666666666666666,
              "#ed7953"
             ],
             [
              0.7777777777777778,
              "#fb9f3a"
             ],
             [
              0.8888888888888888,
              "#fdca26"
             ],
             [
              1,
              "#f0f921"
             ]
            ],
            "type": "surface"
           }
          ],
          "table": [
           {
            "cells": {
             "fill": {
              "color": "#EBF0F8"
             },
             "line": {
              "color": "white"
             }
            },
            "header": {
             "fill": {
              "color": "#C8D4E3"
             },
             "line": {
              "color": "white"
             }
            },
            "type": "table"
           }
          ]
         },
         "layout": {
          "annotationdefaults": {
           "arrowcolor": "#2a3f5f",
           "arrowhead": 0,
           "arrowwidth": 1
          },
          "autotypenumbers": "strict",
          "coloraxis": {
           "colorbar": {
            "outlinewidth": 0,
            "ticks": ""
           }
          },
          "colorscale": {
           "diverging": [
            [
             0,
             "#8e0152"
            ],
            [
             0.1,
             "#c51b7d"
            ],
            [
             0.2,
             "#de77ae"
            ],
            [
             0.3,
             "#f1b6da"
            ],
            [
             0.4,
             "#fde0ef"
            ],
            [
             0.5,
             "#f7f7f7"
            ],
            [
             0.6,
             "#e6f5d0"
            ],
            [
             0.7,
             "#b8e186"
            ],
            [
             0.8,
             "#7fbc41"
            ],
            [
             0.9,
             "#4d9221"
            ],
            [
             1,
             "#276419"
            ]
           ],
           "sequential": [
            [
             0,
             "#0d0887"
            ],
            [
             0.1111111111111111,
             "#46039f"
            ],
            [
             0.2222222222222222,
             "#7201a8"
            ],
            [
             0.3333333333333333,
             "#9c179e"
            ],
            [
             0.4444444444444444,
             "#bd3786"
            ],
            [
             0.5555555555555556,
             "#d8576b"
            ],
            [
             0.6666666666666666,
             "#ed7953"
            ],
            [
             0.7777777777777778,
             "#fb9f3a"
            ],
            [
             0.8888888888888888,
             "#fdca26"
            ],
            [
             1,
             "#f0f921"
            ]
           ],
           "sequentialminus": [
            [
             0,
             "#0d0887"
            ],
            [
             0.1111111111111111,
             "#46039f"
            ],
            [
             0.2222222222222222,
             "#7201a8"
            ],
            [
             0.3333333333333333,
             "#9c179e"
            ],
            [
             0.4444444444444444,
             "#bd3786"
            ],
            [
             0.5555555555555556,
             "#d8576b"
            ],
            [
             0.6666666666666666,
             "#ed7953"
            ],
            [
             0.7777777777777778,
             "#fb9f3a"
            ],
            [
             0.8888888888888888,
             "#fdca26"
            ],
            [
             1,
             "#f0f921"
            ]
           ]
          },
          "colorway": [
           "#636efa",
           "#EF553B",
           "#00cc96",
           "#ab63fa",
           "#FFA15A",
           "#19d3f3",
           "#FF6692",
           "#B6E880",
           "#FF97FF",
           "#FECB52"
          ],
          "font": {
           "color": "#2a3f5f"
          },
          "geo": {
           "bgcolor": "white",
           "lakecolor": "white",
           "landcolor": "#E5ECF6",
           "showlakes": true,
           "showland": true,
           "subunitcolor": "white"
          },
          "hoverlabel": {
           "align": "left"
          },
          "hovermode": "closest",
          "mapbox": {
           "style": "light"
          },
          "paper_bgcolor": "white",
          "plot_bgcolor": "#E5ECF6",
          "polar": {
           "angularaxis": {
            "gridcolor": "white",
            "linecolor": "white",
            "ticks": ""
           },
           "bgcolor": "#E5ECF6",
           "radialaxis": {
            "gridcolor": "white",
            "linecolor": "white",
            "ticks": ""
           }
          },
          "scene": {
           "xaxis": {
            "backgroundcolor": "#E5ECF6",
            "gridcolor": "white",
            "gridwidth": 2,
            "linecolor": "white",
            "showbackground": true,
            "ticks": "",
            "zerolinecolor": "white"
           },
           "yaxis": {
            "backgroundcolor": "#E5ECF6",
            "gridcolor": "white",
            "gridwidth": 2,
            "linecolor": "white",
            "showbackground": true,
            "ticks": "",
            "zerolinecolor": "white"
           },
           "zaxis": {
            "backgroundcolor": "#E5ECF6",
            "gridcolor": "white",
            "gridwidth": 2,
            "linecolor": "white",
            "showbackground": true,
            "ticks": "",
            "zerolinecolor": "white"
           }
          },
          "shapedefaults": {
           "line": {
            "color": "#2a3f5f"
           }
          },
          "ternary": {
           "aaxis": {
            "gridcolor": "white",
            "linecolor": "white",
            "ticks": ""
           },
           "baxis": {
            "gridcolor": "white",
            "linecolor": "white",
            "ticks": ""
           },
           "bgcolor": "#E5ECF6",
           "caxis": {
            "gridcolor": "white",
            "linecolor": "white",
            "ticks": ""
           }
          },
          "title": {
           "x": 0.05
          },
          "xaxis": {
           "automargin": true,
           "gridcolor": "white",
           "linecolor": "white",
           "ticks": "",
           "title": {
            "standoff": 15
           },
           "zerolinecolor": "white",
           "zerolinewidth": 2
          },
          "yaxis": {
           "automargin": true,
           "gridcolor": "white",
           "linecolor": "white",
           "ticks": "",
           "title": {
            "standoff": 15
           },
           "zerolinecolor": "white",
           "zerolinewidth": 2
          }
         }
        },
        "xaxis": {
         "anchor": "y",
         "domain": [
          0,
          1
         ],
         "title": {
          "text": "odometer"
         }
        },
        "yaxis": {
         "anchor": "x",
         "domain": [
          0,
          1
         ],
         "dtick": 5000,
         "title": {
          "text": "price"
         }
        }
       }
      }
     },
     "metadata": {},
     "output_type": "display_data"
    }
   ],
   "source": [
    "from sklearn.linear_model import LinearRegression\n",
    "import numpy as np\n",
    "\n",
    "# Drop rows with missing values in relevant columns\n",
    "df = df.dropna(subset=[\"price\", \"odometer\"])\n",
    "\n",
    "# Prepare data for regression\n",
    "X = df[\"odometer\"].values.reshape(-1, 1)  # Odometer as independent variable\n",
    "y = df[\"price\"].values  # Price as dependent variable\n",
    "\n",
    "# Fit Linear Regression Model\n",
    "model = LinearRegression()\n",
    "model.fit(X, y)\n",
    "\n",
    "# Predict prices\n",
    "df[\"predicted_price\"] = model.predict(X)\n",
    "\n",
    "# Calculate price deviation\n",
    "df[\"price_deviation\"] = df[\"price\"] - df[\"predicted_price\"]\n",
    "\n",
    "# Add regression line points\n",
    "x_range = np.linspace(df[\"odometer\"].min(), df[\"odometer\"].max(), 100).reshape(-1, 1)\n",
    "y_pred_range = model.predict(x_range)\n",
    "\n",
    "# Create a Plotly figure\n",
    "fig = px.scatter(\n",
    "    df,\n",
    "    x=\"odometer\",\n",
    "    y=\"price\",\n",
    "    color=df[\"price_deviation\"].apply(lambda x: \"Above Expected\" if x > 0 else \"Below Expected\"),\n",
    "    hover_data=[\"url\"],\n",
    ")\n",
    "\n",
    "# Add the regression line\n",
    "fig.add_traces(\n",
    "    px.line(\n",
    "        x=x_range.flatten(),\n",
    "        y=y_pred_range,\n",
    "        labels={\"x\": \"odometer\", \"y\": \"price\"},\n",
    "    ).data\n",
    ")\n",
    "\n",
    "fig.update_yaxes(dtick=5000)  # Set y-axis ticks to every $5000"
   ]
  }
 ],
 "metadata": {
  "kernelspec": {
   "display_name": "base",
   "language": "python",
   "name": "python3"
  },
  "language_info": {
   "codemirror_mode": {
    "name": "ipython",
    "version": 3
   },
   "file_extension": ".py",
   "mimetype": "text/x-python",
   "name": "python",
   "nbconvert_exporter": "python",
   "pygments_lexer": "ipython3",
   "version": "3.12.2"
  }
 },
 "nbformat": 4,
 "nbformat_minor": 2
}
