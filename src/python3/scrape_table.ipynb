{
 "cells": [
  {
   "cell_type": "code",
   "execution_count": 4,
   "metadata": {},
   "outputs": [],
   "source": [
    "import pandas as pd\n",
    "import os\n",
    "from bs4 import BeautifulSoup"
   ]
  },
  {
   "cell_type": "code",
   "execution_count": 16,
   "metadata": {},
   "outputs": [
    {
     "name": "stdout",
     "output_type": "stream",
     "text": [
      "/Users/ephraimlove/Courses/data_wrangling/data/assignment_1/raw/hello_class.html\n"
     ]
    }
   ],
   "source": [
    "# Read the HTML file\n",
    "data_dir = '/Users/ephraimlove/Courses/data_wrangling/data/assignment_1/raw/'\n",
    "html_file = os.path.join(data_dir, 'hello_class.html')\n",
    "print(html_file)\n",
    "with open(html_file, 'r') as html_file:\n",
    "    soup = BeautifulSoup(html_file, 'html.parser')"
   ]
  },
  {
   "cell_type": "code",
   "execution_count": 9,
   "metadata": {},
   "outputs": [
    {
     "name": "stdout",
     "output_type": "stream",
     "text": [
      "data/assignment_1/altered/Ephy Love.csv\n"
     ]
    }
   ],
   "source": [
    "# Get the h1 tag content to use in the \"name\" column and as the CSV file name\n",
    "h1_tag = soup.find('h1')\n",
    "name_value = h1_tag.text.strip()\n",
    "csv_file_name = 'data/assignment_1/altered/' + name_value + '.csv'\n",
    "print(csv_file_name)"
   ]
  },
  {
   "cell_type": "code",
   "execution_count": 10,
   "metadata": {},
   "outputs": [
    {
     "name": "stdout",
     "output_type": "stream",
     "text": [
      "<table>\n",
      "<tr>\n",
      "<th>Category</th>\n",
      "<th>Favorite</th>\n",
      "</tr>\n",
      "<tr>\n",
      "<td>Ice Cream</td>\n",
      "<td>Coffee</td>\n",
      "</tr>\n",
      "<tr>\n",
      "<td>Sport</td>\n",
      "<td>Rock climbing</td>\n",
      "</tr>\n",
      "<tr>\n",
      "<td>Pass time</td>\n",
      "<td>Walking my dog, Dov</td>\n",
      "</tr>\n",
      "</table>\n"
     ]
    }
   ],
   "source": [
    "# Find the table\n",
    "table = soup.find('table')\n",
    "print(table)"
   ]
  },
  {
   "cell_type": "code",
   "execution_count": 12,
   "metadata": {},
   "outputs": [
    {
     "name": "stdout",
     "output_type": "stream",
     "text": [
      "[['Ice Cream', 'Coffee', 'Ephy Love'], ['Sport', 'Rock climbing', 'Ephy Love'], ['Pass time', 'Walking my dog, Dov', 'Ephy Love']]\n"
     ]
    }
   ],
   "source": [
    "# Extract table headers\n",
    "headers = [th.text.strip() for th in table.find_all('th')]\n",
    "\n",
    "# Add the \"name\" column to the headers\n",
    "headers.append('Name')\n",
    "\n",
    "# Extract table rows and add the \"name\" column value\n",
    "rows = []\n",
    "for row in table.find_all('tr')[1:]:  # Skipping the header row\n",
    "    cols = [td.text.strip() for td in row.find_all('td')]\n",
    "    cols.append(name_value)  # Add the name column value\n",
    "    rows.append(cols)\n",
    "\n",
    "print(rows)"
   ]
  },
  {
   "cell_type": "code",
   "execution_count": 13,
   "metadata": {},
   "outputs": [
    {
     "ename": "SyntaxError",
     "evalue": "incomplete input (3784780890.py, line 7)",
     "output_type": "error",
     "traceback": [
      "\u001b[0;36m  Cell \u001b[0;32mIn[13], line 7\u001b[0;36m\u001b[0m\n\u001b[0;31m    print(f\"Data extracted and saved to {csv_file_name}\"\u001b[0m\n\u001b[0m                                                        ^\u001b[0m\n\u001b[0;31mSyntaxError\u001b[0m\u001b[0;31m:\u001b[0m incomplete input\n"
     ]
    }
   ],
   "source": [
    "# Create a pandas DataFrame\n",
    "df = pd.DataFrame(rows, columns=headers)\n",
    "\n",
    "# Save the DataFrame to a CSV file\n",
    "df.to_csv(csv_file_name, index=False, encoding='utf-8')\n",
    "\n",
    "print(f\"Data extracted and saved to {csv_file_name}\""
   ]
  },
  {
   "cell_type": "code",
   "execution_count": null,
   "metadata": {},
   "outputs": [],
   "source": []
  }
 ],
 "metadata": {
  "kernelspec": {
   "display_name": "base",
   "language": "python",
   "name": "python3"
  },
  "language_info": {
   "codemirror_mode": {
    "name": "ipython",
    "version": 3
   },
   "file_extension": ".py",
   "mimetype": "text/x-python",
   "name": "python",
   "nbconvert_exporter": "python",
   "pygments_lexer": "ipython3",
   "version": "3.12.2"
  }
 },
 "nbformat": 4,
 "nbformat_minor": 2
}
